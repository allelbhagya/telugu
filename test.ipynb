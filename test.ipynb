{
 "cells": [
  {
   "cell_type": "code",
   "execution_count": null,
   "metadata": {},
   "outputs": [],
   "source": [
    "from tensorflow.keras.models import Model\n",
    "from tensorflow.keras.layers import Input, Embedding, SimpleRNN, Dense\n",
    "from tensorflow.keras.preprocessing.text import Tokenizer\n",
    "from tensorflow.keras.preprocessing.sequence import pad_sequences\n",
    "import numpy as np\n",
    "\n",
    "# Sample English and Tamil sentences\n",
    "english_sentences = [\"I like to eat pizza.\", \"He is a good boy.\", \"She speaks English.\"]\n",
    "tamil_sentences = [\"நான் பீச்சா சாப்பிடுவது பிட்சாவின் போது.\", \"அவன் ஒரு நல்ல பை.\", \"அவள் ஆங்கிலம் பேசுகின்றாள்.\"]\n",
    "\n",
    "# Initialize tokenizers for English and Tamil\n",
    "english_tokenizer = Tokenizer(oov_token=\"<OOV>\")\n",
    "tamil_tokenizer = Tokenizer(oov_token=\"<OOV>\")\n",
    "\n",
    "# Fit the tokenizers on the sentences\n",
    "english_tokenizer.fit_on_texts(english_sentences)\n",
    "tamil_tokenizer.fit_on_texts(tamil_sentences)\n",
    "\n",
    "# Convert text sequences to numerical sequences\n",
    "english_sequences = english_tokenizer.texts_to_sequences(english_sentences)\n",
    "tamil_sequences = tamil_tokenizer.texts_to_sequences(tamil_sentences)\n",
    "\n",
    "# Pad sequences to make them of equal length\n",
    "max_seq_length = 5  # Set your desired sequence length (maximum length of sentences)\n",
    "english_sequences = pad_sequences(english_sequences, maxlen=max_seq_length, padding='post', truncating='post')\n",
    "tamil_sequences = pad_sequences(tamil_sequences, maxlen=max_seq_length, padding='post', truncating='post')\n",
    "\n",
    "# Define model parameters\n",
    "hidden_units = 256\n",
    "embedding_dim = 100\n",
    "num_encoder_tokens = len(english_tokenizer.word_index) + 1\n",
    "num_decoder_tokens = len(tamil_tokenizer.word_index) + 1\n",
    "\n",
    "# Define the encoder\n",
    "encoder_inputs = Input(shape=(max_seq_length,))\n",
    "encoder_embedding = Embedding(input_dim=num_encoder_tokens, output_dim=embedding_dim)(encoder_inputs)\n",
    "encoder_rnn, encoder_state = SimpleRNN(hidden_units, return_state=True)(encoder_embedding)\n",
    "\n",
    "# Define the decoder\n",
    "decoder_inputs = Input(shape=(max_seq_length,))\n",
    "decoder_embedding = Embedding(input_dim=num_decoder_tokens, output_dim=embedding_dim)(decoder_inputs)\n",
    "decoder_rnn = SimpleRNN(hidden_units, return_sequences=True)(decoder_embedding, initial_state=encoder_state)\n",
    "decoder_dense = Dense(num_decoder_tokens, activation='softmax')\n",
    "decoder_outputs = decoder_dense(decoder_rnn)\n",
    "\n",
    "# Define the model\n",
    "model = Model([encoder_inputs, decoder_inputs], decoder_outputs)\n",
    "\n",
    "# Compile the model with 'sparse_categorical_crossentropy' loss\n",
    "model.compile(optimizer='adam', loss='sparse_categorical_crossentropy', metrics=['accuracy'])\n",
    "\n",
    "# Define the decoder target data\n",
    "decoder_target_data = tamil_sequences\n",
    "\n",
    "# Train the model\n",
    "model.fit([english_sequences, tamil_sequences], decoder_target_data[:, :, np.newaxis], epochs=10, batch_size=64, validation_split=0.2)\n"
   ]
  },
  {
   "cell_type": "code",
   "execution_count": null,
   "metadata": {},
   "outputs": [],
   "source": [
    "def translate_sentence(input_sentence):\n",
    "    # Tokenize and pad the input sentence\n",
    "    input_sequence = english_tokenizer.texts_to_sequences([input_sentence])\n",
    "    input_sequence = pad_sequences(input_sequence, maxlen=max_seq_length, padding='post', truncating='post')\n",
    "\n",
    "    # Get the model's prediction\n",
    "    predicted_tamil_sequence = model.predict([input_sequence, input_sequence])  # Use the input_sequence twice for encoder and decoder inputs\n",
    "\n",
    "    # Convert the predicted sequence back to text\n",
    "    predicted_tamil_sequence = np.argmax(predicted_tamil_sequence, axis=-1)\n",
    "    predicted_tamil_sentence = tamil_tokenizer.sequences_to_texts(predicted_tamil_sequence)[0]\n",
    "\n",
    "    return predicted_tamil_sentence\n"
   ]
  },
  {
   "cell_type": "code",
   "execution_count": null,
   "metadata": {},
   "outputs": [],
   "source": [
    "english_input =\"i like pizza\"\n",
    "translated_tamil = translate_sentence(english_input)\n",
    "print(translated_tamil)"
   ]
  }
 ],
 "metadata": {
  "kernelspec": {
   "display_name": "Python 3",
   "language": "python",
   "name": "python3"
  },
  "language_info": {
   "name": "python",
   "version": "3.10.11"
  },
  "orig_nbformat": 4
 },
 "nbformat": 4,
 "nbformat_minor": 2
}
